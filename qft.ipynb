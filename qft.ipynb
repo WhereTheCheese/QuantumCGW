{
 "cells": [
  {
   "cell_type": "markdown",
   "id": "03e71876-8e21-4040-951a-b58ee825c3de",
   "metadata": {},
   "source": [
    "This is a file I am using to test QFT and prevouly have used to mess around with FFT and DFT"
   ]
  },
  {
   "cell_type": "code",
   "execution_count": 2,
   "id": "3a16c91a-c708-4a79-b63a-150c6a68bb84",
   "metadata": {},
   "outputs": [],
   "source": [
    "# I am testing to see how it works and to see how I can use QFT for my own projects\n",
    "\n",
    "\n",
    "#I deleted most of it because it is not working, update will come soon :)"
   ]
  },
  {
   "cell_type": "code",
   "execution_count": null,
   "id": "e5578f02-30db-4b00-aed1-d2181dfae3b0",
   "metadata": {},
   "outputs": [],
   "source": []
  }
 ],
 "metadata": {
  "kernelspec": {
   "display_name": "Python 3 (ipykernel)",
   "language": "python",
   "name": "python3"
  },
  "language_info": {
   "codemirror_mode": {
    "name": "ipython",
    "version": 3
   },
   "file_extension": ".py",
   "mimetype": "text/x-python",
   "name": "python",
   "nbconvert_exporter": "python",
   "pygments_lexer": "ipython3",
   "version": "3.13.5"
  }
 },
 "nbformat": 4,
 "nbformat_minor": 5
}
