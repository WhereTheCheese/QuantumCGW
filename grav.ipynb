{
 "cells": [
  {
   "cell_type": "markdown",
   "id": "b2e9fa85-71e2-449b-85fc-f3d307953e87",
   "metadata": {},
   "source": [
    "**Questions and things I am working on:**\n",
    "\n",
    "**Questions:**\n",
    "\n",
    "-No big questions right now. I am making good progress and am very happy with how things have been going. I implemented template generation and created a fake signal (I know the signal I generated is unrealistic; I wanted one that was easily visible on a graph). I also added some code to find an SNR so that when I add quantum stuff, I can compare the results. I have most of the quantum code in my notebook so far, as it helps me understand it better if I write it there. \n",
    "\n",
    "**Tasks (and why they are not done yet lol):**\n",
    "\n",
    "-Transfer data to quantum \n",
    "\n",
    "-Building Quantum Circuits ~ It's tough, but I am beginning to understand it\n",
    "\n"
   ]
  },
  {
   "cell_type": "code",
   "execution_count": 36,
   "id": "ce4523d2-8b22-4594-9396-4540cc122f31",
   "metadata": {},
   "outputs": [],
   "source": [
    "from qiskit import QuantumCircuit, QuantumRegister, ClassicalRegister # Visualises the quantum circuits, creates the quantum register, and creates the classical register\n",
    "from qiskit.circuit.library import QFT\n",
    "from qiskit_aer import AerSimulator, Aer # Allows for more advanced simulations to be run - For GPU usage, CUDA must be installed and that is not open source :(\n",
    "from qiskit import transpile # From what I understand, this helps rewrite the program so it can run on hardware more easily\n",
    "import matplotlib.pyplot as plt # Imports matplotlib so we can visulase the templates, not nessaray, but I want to see them :)\n",
    "import numpy as np # For number operations\n",
    "import h5py # For using HDF5 stroage\n",
    "import os # To play with the file system\n",
    "import glob as glob # Helps with file functions with calssical matched filtering"
   ]
  },
  {
   "cell_type": "markdown",
   "id": "a2a550d5-0f3b-4920-ad13-79a3f4b3291c",
   "metadata": {},
   "source": [
    "Function the genorates the templates"
   ]
  },
  {
   "cell_type": "code",
   "execution_count": 67,
   "id": "5a3fb053-1f81-4388-8976-ec458b933d8f",
   "metadata": {},
   "outputs": [],
   "source": [
    "# Funtion to create the template wave\n",
    "def generate_cw_template(f0, fdot, alpha, delta, t_ref, duration, dt, h0=1e-24, f_plus=1.0, f_cross=0.0, phi0=0.0):\n",
    "    # Creates an array of times from 0 to the spesified duration spaced by dt, this is the smapled data times\n",
    "    times = np.arange(0, duration, dt)\n",
    "    # Centers the time axis around the reference time\n",
    "    t = times - t_ref\n",
    "\n",
    "    # Computes the signal phase at each time\n",
    "    phase = 2 * np.pi * (f0 * t + 0.5 * fdot * t**2) + phi0\n",
    "    #Constructsvespertine the full signal h(t) \n",
    "    signal = h0 * (f_plus * np.cos(phase) + f_cross * np.sin(phase))\n",
    "    # Stores all he parameters used in generating the wave, important for reproducibility\n",
    "    metadata = {\n",
    "        #I did impliment the other stuff, it is just not here\n",
    "        'f0': f0, # Initial fewquency of the GW (Hz)\n",
    "        'fdot': fdot, # First frequency derivate also known as the spin down(Hz/s)\n",
    "        'alpha': alpha, # Sky position of source, used in metadata\n",
    "        'delta': delta, # Sky position of source, used in metadata\n",
    "        't_ref': t_ref, # Reference time (start of observation)_\n",
    "        'h0': h0, # Amplitude of the gravitainal wave\n",
    "        'phi0': phi0, #initial offset of the signal\n",
    "        'duration': duration, # Total length of the template in seconds\n",
    "        'dt': dt #time step (the interval for sampling)\n",
    "    }\n",
    "    #Returns the time array, generated waveform array, all the metadata\n",
    "    return times, signal, metadata"
   ]
  },
  {
   "cell_type": "markdown",
   "id": "869fbc1a-cabf-43a8-9e34-c40904659fb4",
   "metadata": {},
   "source": [
    "Saves the created template to a file and has a main funcutin"
   ]
  },
  {
   "cell_type": "code",
   "execution_count": 68,
   "id": "64be22b1-168f-47e4-983d-0ff23e28f707",
   "metadata": {
    "scrolled": true
   },
   "outputs": [
    {
     "name": "stdout",
     "output_type": "stream",
     "text": [
      "Saved: cw_templates/template_f0.000_fdot-1.0e-10.h5\n",
      "Saved: cw_templates/template_f0.000_fdot-2.0e-10.h5\n",
      "Saved: cw_templates/template_f0.000_fdot-3.0e-10.h5\n",
      "Saved: cw_templates/template_f0.000_fdot-4.0e-10.h5\n",
      "Saved: cw_templates/template_f0.000_fdot-5.0e-10.h5\n",
      "Template saved to cw_templates/template_f0.000_fdot-5.0e-10.h5\n",
      "Saved: cw_templates/template_f1.000_fdot-1.0e-10.h5\n",
      "Saved: cw_templates/template_f1.000_fdot-2.0e-10.h5\n",
      "Saved: cw_templates/template_f1.000_fdot-3.0e-10.h5\n",
      "Saved: cw_templates/template_f1.000_fdot-4.0e-10.h5\n",
      "Saved: cw_templates/template_f1.000_fdot-5.0e-10.h5\n",
      "Template saved to cw_templates/template_f1.000_fdot-5.0e-10.h5\n",
      "Saved: cw_templates/template_f2.000_fdot-1.0e-10.h5\n",
      "Saved: cw_templates/template_f2.000_fdot-2.0e-10.h5\n",
      "Saved: cw_templates/template_f2.000_fdot-3.0e-10.h5\n",
      "Saved: cw_templates/template_f2.000_fdot-4.0e-10.h5\n",
      "Saved: cw_templates/template_f2.000_fdot-5.0e-10.h5\n",
      "Template saved to cw_templates/template_f2.000_fdot-5.0e-10.h5\n",
      "Saved: cw_templates/template_f3.000_fdot-1.0e-10.h5\n",
      "Saved: cw_templates/template_f3.000_fdot-2.0e-10.h5\n",
      "Saved: cw_templates/template_f3.000_fdot-3.0e-10.h5\n",
      "Saved: cw_templates/template_f3.000_fdot-4.0e-10.h5\n",
      "Saved: cw_templates/template_f3.000_fdot-5.0e-10.h5\n",
      "Template saved to cw_templates/template_f3.000_fdot-5.0e-10.h5\n",
      "Saved: cw_templates/template_f4.000_fdot-1.0e-10.h5\n",
      "Saved: cw_templates/template_f4.000_fdot-2.0e-10.h5\n",
      "Saved: cw_templates/template_f4.000_fdot-3.0e-10.h5\n",
      "Saved: cw_templates/template_f4.000_fdot-4.0e-10.h5\n",
      "Saved: cw_templates/template_f4.000_fdot-5.0e-10.h5\n",
      "Template saved to cw_templates/template_f4.000_fdot-5.0e-10.h5\n",
      "Saved: cw_templates/template_f5.000_fdot-1.0e-10.h5\n",
      "Saved: cw_templates/template_f5.000_fdot-2.0e-10.h5\n",
      "Saved: cw_templates/template_f5.000_fdot-3.0e-10.h5\n",
      "Saved: cw_templates/template_f5.000_fdot-4.0e-10.h5\n",
      "Saved: cw_templates/template_f5.000_fdot-5.0e-10.h5\n",
      "Template saved to cw_templates/template_f5.000_fdot-5.0e-10.h5\n"
     ]
    }
   ],
   "source": [
    "if __name__ == \"__main__\":\n",
    "    #This is just the shortend version, more discription is shown in Create_Data\n",
    "    f0_values = np.linspace(0, 5, 6) # Looks at a range of frequencys - Format (min #, max #, # of steps)\n",
    "    fdot_values = np.linspace(-1e-10, -5e-10, 5)  # The derivitve of above, frequency per second - Format (min #, max #, # of steps)\n",
    "    alpha = 1.5      \n",
    "    delta = 0.3      \n",
    "    t_ref = 0        \n",
    "    duration = 86400  \n",
    "    dt = 1.0         \n",
    "\n",
    "    \n",
    "    output_dir = \"cw_templates\" #assigns the folder the templaes should go into\n",
    "    \n",
    "    os.makedirs(output_dir, exist_ok=True) # does stuff with the os\n",
    "    \n",
    "    # Runs thoguht all of the values defined above and creates templates with them\n",
    "for f0 in f0_values:\n",
    "    for fdot in fdot_values:\n",
    "        times, signal, metadata = generate_cw_template(f0, fdot, alpha, delta, t_ref, duration, dt)\n",
    "        filename = os.path.join(output_dir, f\"template_f{f0:.3f}_fdot{fdot:.1e}.h5\")\n",
    "        save_template_hdf5(filename, times, signal, metadata)\n",
    "        print(f\"Saved: {filename}\")\n",
    "    \n",
    "    print(f\"Template saved to {filename}\") # Prints the filename\n"
   ]
  },
  {
   "cell_type": "markdown",
   "id": "a8d49ec6-b66c-4a9d-b3db-da3b8a78c083",
   "metadata": {},
   "source": [
    "Matched Filerting - Classical Code"
   ]
  },
  {
   "cell_type": "code",
   "execution_count": 5,
   "id": "e721c982-01f7-44ed-897b-9407b3a1a15b",
   "metadata": {},
   "outputs": [],
   "source": [
    "def load_hdf5_signal(filename):\n",
    "    with h5py.File(filename, 'r') as f:\n",
    "        times = f['times'][:]\n",
    "        signal = f['signal'][:]\n",
    "        metadata = dict(f['metadata'].attrs)\n",
    "    return times, signal, metadata\n",
    "\n",
    "\n",
    "def matched_filter(template, data, noise_std):\n",
    "    \"\"\"\n",
    "    Simple matched filter assuming stationary white Gaussian noise.\n",
    "    Computes normalized dot product (matched filter SNR).\n",
    "    \"\"\"\n",
    "    norm = np.linalg.norm(template)\n",
    "    if norm == 0:\n",
    "        raise ValueError(\"Template has zero norm.\")\n",
    "    template_norm = template / norm\n",
    "\n",
    "    snr = np.correlate(data, template_norm, mode='valid') / noise_std\n",
    "    return snr\n"
   ]
  },
  {
   "cell_type": "markdown",
   "id": "0bcaff14-a3ce-46ac-b27d-2a627ffb3f7d",
   "metadata": {},
   "source": [
    "Calls the Classical Matched Filterign code"
   ]
  },
  {
   "cell_type": "code",
   "execution_count": 6,
   "id": "04821cda-5616-4390-aa97-16363f007597",
   "metadata": {},
   "outputs": [
    {
     "name": "stdout",
     "output_type": "stream",
     "text": [
      "Best template: cw_templates/template_f3.000_fdot-1.0e-10.h5\n",
      "Peak SNR: 227.82104370068575\n"
     ]
    }
   ],
   "source": [
    "# Load data and template\n",
    "data_times, noisy_data, data_meta = load_hdf5_signal(\"CW/wave_with_noise.h5\")\n",
    "_, template, _ = load_hdf5_signal(\"CW/wave_no_noise.h5\")\n",
    "\n",
    "# Estimate noise level from Saved: cw_templates/template_f5.000_fdot-2.0e-10.h5Saved: cw_templates/template_f5.000_fdot-2.0e-10.h5m data (or use known std)\n",
    "estimated_noise_std = np.std(noisy_data - template)  # or known value\n",
    "\n",
    "\n",
    "template_files = glob.glob(\"cw_templates/template_f*.h5\")\n",
    "max_snr = 0\n",
    "best_template = None\n",
    "\n",
    "for tf in template_files:\n",
    "    _, template, _ = load_hdf5_signal(tf)\n",
    "    snr = matched_filter(template, noisy_data, estimated_noise_std)\n",
    "    peak = np.max(np.abs(snr))\n",
    "    if peak > max_snr:\n",
    "        max_snr = peak\n",
    "        best_template = tf\n",
    "\n",
    "print(f\"Best template: {best_template}\")\n",
    "print(f\"Peak SNR: {max_snr}\")"
   ]
  },
  {
   "cell_type": "markdown",
   "id": "394ea4bf-4695-45cc-adcd-31fda142da92",
   "metadata": {},
   "source": [
    "Design the Quantum Ciructs "
   ]
  },
  {
   "cell_type": "code",
   "execution_count": null,
   "id": "5583430f-c43e-4708-8419-e4dfbc2c6d47",
   "metadata": {},
   "outputs": [],
   "source": []
  },
  {
   "cell_type": "code",
   "execution_count": null,
   "id": "26587e25-2fc5-40e5-b7cd-aab99a344024",
   "metadata": {},
   "outputs": [],
   "source": []
  },
  {
   "cell_type": "code",
   "execution_count": null,
   "id": "acecbb73-7923-4828-a15d-e9247f0bf2a8",
   "metadata": {},
   "outputs": [],
   "source": []
  },
  {
   "cell_type": "code",
   "execution_count": null,
   "id": "de5c79c7-1b35-468a-8062-6769e76ac922",
   "metadata": {},
   "outputs": [],
   "source": []
  },
  {
   "cell_type": "code",
   "execution_count": 35,
   "id": "9e9f29ab-301d-483d-a634-f09d726c8641",
   "metadata": {},
   "outputs": [],
   "source": [
    "#Create the quantum circuits that will do the matched filtering - This will likely entail using QFT (Quantum Fourier Transforms) or another highly researched technique for quantum computing \n",
    "\n",
    "\n",
    "#Divide and conquer algorithm may help put the data in Quantum form\n",
    "#There are many pre-made circuits at https://quantum.cloud.ibm.com/docs/en/api/qiskit/circuit_library that may be helpful, including QFT"
   ]
  },
  {
   "cell_type": "markdown",
   "id": "36b1c892-dde1-4de3-8770-6f2d661bdeef",
   "metadata": {},
   "source": [
    "Encode the data using Matched Filtering - Quantum"
   ]
  },
  {
   "cell_type": "code",
   "execution_count": 3,
   "id": "13aabaa6-1a20-4f19-9743-7ac13397aab2",
   "metadata": {},
   "outputs": [],
   "source": [
    "#Mutply the templates by the acctual data - This is relitivly simple once the circut has been designed"
   ]
  },
  {
   "cell_type": "markdown",
   "id": "e88763f2-c179-436e-b212-e34910fce5fb",
   "metadata": {
    "jupyter": {
     "source_hidden": true
    }
   },
   "source": [
    "Transfer the results from the quantum to the calssical register"
   ]
  },
  {
   "cell_type": "code",
   "execution_count": null,
   "id": "72cfefdf-c03d-46cc-b72d-074600a93526",
   "metadata": {},
   "outputs": [],
   "source": [
    "#Use Qiskit to transfer data from the quantum to the classical register so we can perform data processing on it and other operations.\n",
    "#I think I understand this piece of code, I just need more pieces put in place before I can implement it"
   ]
  },
  {
   "cell_type": "markdown",
   "id": "79fac529-e741-4241-b1b5-50686a3a3c82",
   "metadata": {},
   "source": [
    "Construct and add the products together - Classical"
   ]
  },
  {
   "cell_type": "code",
   "execution_count": null,
   "id": "c65569c3-dee4-4e13-b734-dbf034505391",
   "metadata": {},
   "outputs": [],
   "source": [
    "#See if any of the results have a good SNR"
   ]
  },
  {
   "cell_type": "markdown",
   "id": "ffd8761f-8fe9-4e9f-ae19-f87b52b16b44",
   "metadata": {},
   "source": [
    "Do the mesurement calculations - Classical"
   ]
  },
  {
   "cell_type": "code",
   "execution_count": null,
   "id": "ebc126b2-eab2-4c7d-b172-9dde9377a1be",
   "metadata": {},
   "outputs": [],
   "source": []
  }
 ],
 "metadata": {
  "kernelspec": {
   "display_name": "Python 3 (ipykernel)",
   "language": "python",
   "name": "python3"
  },
  "language_info": {
   "codemirror_mode": {
    "name": "ipython",
    "version": 3
   },
   "file_extension": ".py",
   "mimetype": "text/x-python",
   "name": "python",
   "nbconvert_exporter": "python",
   "pygments_lexer": "ipython3",
   "version": "3.13.5"
  }
 },
 "nbformat": 4,
 "nbformat_minor": 5
}
